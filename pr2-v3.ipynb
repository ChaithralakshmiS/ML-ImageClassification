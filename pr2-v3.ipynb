{
 "cells": [
  {
   "cell_type": "code",
   "execution_count": 1,
   "metadata": {},
   "outputs": [],
   "source": [
    "import pandas as pd\n",
    "import numpy as np\n",
    "import time\n",
    "\n",
    "# matplotlib\n",
    "import matplotlib.pyplot as plt\n",
    "import matplotlib.image as mpimg\n",
    "from matplotlib.colors import ListedColormap\n",
    "\n",
    "#sklearn\n",
    "from sklearn import datasets, svm, metrics\n",
    "from sklearn.datasets import make_classification\n",
    "from sklearn.model_selection import train_test_split\n",
    "#preprocessing\n",
    "from sklearn.preprocessing import StandardScaler,normalize\n",
    "# Dimenionality Reduction\n",
    "from sklearn.decomposition import PCA,FastICA\n",
    "from sklearn.discriminant_analysis import LinearDiscriminantAnalysis as LDA\n",
    "from sklearn import random_projection\n",
    "#Feature selection\n",
    "from sklearn.feature_selection import VarianceThreshold\n",
    "#Under sampling\n",
    "from imblearn.under_sampling import RandomUnderSampler\n",
    "#Over sampling\n",
    "from imblearn.over_sampling import SMOTE, BorderlineSMOTE, SVMSMOTE, SMOTENC,RandomOverSampler\n",
    "#Combined sampling\n",
    "from imblearn.combine import SMOTETomek\n",
    "#Algorithms\n",
    "from sklearn.neighbors import KNeighborsClassifier\n",
    "from sklearn.ensemble import VotingClassifier,AdaBoostClassifier,RandomForestClassifier,ExtraTreesClassifier,GradientBoostingClassifier,GradientBoostingRegressor\n",
    "from xgboost import XGBClassifier\n",
    "from sklearn.tree import DecisionTreeClassifier\n",
    "from sklearn.naive_bayes import BernoulliNB,GaussianNB\n",
    "from sklearn.neural_network import MLPClassifier\n",
    "from sklearn.linear_model import LogisticRegression,RidgeClassifier,Perceptron,PassiveAggressiveClassifier,RidgeClassifierCV\n",
    "from sklearn.svm import SVC\n",
    "from sklearn.multiclass import OneVsRestClassifier\n",
    "\n",
    "from sklearn.utils import resample\n",
    "from sklearn.pipeline import *\n",
    "from sklearn.metrics import f1_score,confusion_matrix,classification_report,make_scorer,average_precision_score,precision_recall_curve\n",
    "\n",
    "import pandas_ml as pdml\n",
    "\n",
    "import warnings\n",
    "warnings.filterwarnings(\"ignore\")\n",
    "\n",
    "np.random.seed(30)\n",
    "from scipy.stats import itemfreq"
   ]
  },
  {
   "cell_type": "code",
   "execution_count": 2,
   "metadata": {},
   "outputs": [],
   "source": [
    "#Read data\n",
    "train_data = np.genfromtxt(\"data/train.dat\")\n",
    "test_data_final = np.genfromtxt(\"data/test.dat\")\n",
    "train_labels=pd.read_csv('data/train.labels',header=None) #read labels as panda dataframe\n",
    "train_labels = train_labels.values #convert labels from panda dataframe to numpy\n",
    "labels = train_labels.ravel()\n",
    "\n",
    "train_data_final=train_data\n",
    "train_labels_final=train_labels\n"
   ]
  },
  {
   "cell_type": "code",
   "execution_count": 3,
   "metadata": {},
   "outputs": [],
   "source": [
    "#Split into test-train data in ration of 80:20\n",
    "X_train, X_test, y_train, y_test = train_test_split(train_data, train_labels,test_size=0.20,stratify=train_labels,random_state=35)\n",
    "y1=y_train"
   ]
  },
  {
   "cell_type": "code",
   "execution_count": null,
   "metadata": {},
   "outputs": [],
   "source": []
  },
  {
   "cell_type": "code",
   "execution_count": 4,
   "metadata": {},
   "outputs": [],
   "source": [
    "#Scale the threshold\n",
    "scaler = StandardScaler()\n",
    "X_train_scaled = scaler.fit_transform(X_train)\n",
    "X_test_scaled = scaler.transform(X_test)\n"
   ]
  },
  {
   "cell_type": "code",
   "execution_count": 5,
   "metadata": {},
   "outputs": [],
   "source": [
    "#Feature selection using variance threshold\n",
    "\n",
    "fs = VarianceThreshold()\n",
    "X_train_fs=fs.fit_transform(X_train_scaled)\n",
    "X_test_fs=fs.transform(X_test_scaled)"
   ]
  },
  {
   "cell_type": "code",
   "execution_count": 6,
   "metadata": {},
   "outputs": [],
   "source": [
    "#Oversampling using SMOTE to handle imbalanced data\n",
    "sm = SMOTE('not minority',k_neighbors = 3)\n",
    "X_sm, y_sm = sm.fit_sample(X_train_fs, y_train)\n",
    "\n"
   ]
  },
  {
   "cell_type": "code",
   "execution_count": 7,
   "metadata": {},
   "outputs": [
    {
     "name": "stdout",
     "output_type": "stream",
     "text": [
      "Knn : f1_score =  0.6156218378156968\n"
     ]
    }
   ],
   "source": [
    "# Knn-classifier\n",
    "X_knn=X_sm\n",
    "y_knn=y_sm\n",
    "X_test_knn=X_test_fs\n",
    "clf_knn=KNeighborsClassifier(n_neighbors = 8)\n",
    "clf_knn.fit(X_knn,y_knn)\n",
    "y_pred_knn=clf_knn.predict(X_test_knn)\n",
    "print('Knn : f1_score = ',f1_score(y_test, y_pred_knn,average='weighted'))\n"
   ]
  },
  {
   "cell_type": "code",
   "execution_count": 8,
   "metadata": {},
   "outputs": [
    {
     "name": "stdout",
     "output_type": "stream",
     "text": [
      "Randomforest : f1_score =  0.6560839659641743\n"
     ]
    }
   ],
   "source": [
    "#Random Forest classifier\n",
    "X_rf=X_sm\n",
    "y_rf=y_sm\n",
    "X_test_rf=X_test_fs\n",
    "\n",
    "clf_rf=RandomForestClassifier()\n",
    "clf_rf.fit(X_rf,y_rf)\n",
    "y_pred_rf=clf_rf.predict(X_test_rf)\n",
    "print('Randomforest : f1_score = ',f1_score(y_test, y_pred_rf,average='weighted'))\n"
   ]
  },
  {
   "cell_type": "code",
   "execution_count": 9,
   "metadata": {},
   "outputs": [
    {
     "name": "stdout",
     "output_type": "stream",
     "text": [
      "Extra-tree : f1_score =  0.7284750857685576\n"
     ]
    }
   ],
   "source": [
    "#Extra trees classifier\n",
    "X_test_et=X_test_fs\n",
    "X_et=X_sm\n",
    "y_et=y_sm\n",
    "clf_et=ExtraTreesClassifier(n_estimators=1000,class_weight='balanced')\n",
    "clf_et.fit(X_et,y_et)\n",
    "y_pred_et=clf_et.predict(X_test_et)\n",
    "print('Extra-tree : f1_score = ',f1_score(y_test, y_pred_et,average='weighted'))\n"
   ]
  },
  {
   "cell_type": "code",
   "execution_count": 10,
   "metadata": {},
   "outputs": [],
   "source": [
    "#Extra trees classifier on test data\n",
    "test_data_final = np.genfromtxt(\"data/test.dat\")\n",
    "X_test_scaled = scaler.transform(X_test)\n",
    "X_et=X_sm\n",
    "y_et=y_sm\n",
    "clf_et=ExtraTreesClassifier(n_estimators=1000,class_weight='balanced')\n",
    "clf_et.fit(X_et,y_et)\n",
    "\n",
    "y_pred_test=clf_et.predict(X_test_scaled)\n",
    "np.savetxt('pr2-nov1-vc-v3_1.dat', y_pred_test, delimiter=\" \", fmt=\"%s\")\n"
   ]
  },
  {
   "cell_type": "code",
   "execution_count": 11,
   "metadata": {},
   "outputs": [
    {
     "data": {
      "text/plain": [
       "(4238, 48)"
      ]
     },
     "execution_count": 11,
     "metadata": {},
     "output_type": "execute_result"
    }
   ],
   "source": [
    "X_test_scaled.shape"
   ]
  },
  {
   "cell_type": "code",
   "execution_count": 12,
   "metadata": {},
   "outputs": [
    {
     "data": {
      "text/plain": [
       "(4238,)"
      ]
     },
     "execution_count": 12,
     "metadata": {},
     "output_type": "execute_result"
    }
   ],
   "source": [
    "y_pred_test.shape"
   ]
  },
  {
   "cell_type": "code",
   "execution_count": 13,
   "metadata": {},
   "outputs": [
    {
     "data": {
      "text/plain": [
       "(4238,)"
      ]
     },
     "execution_count": 13,
     "metadata": {},
     "output_type": "execute_result"
    }
   ],
   "source": [
    "y_pred_test.shape"
   ]
  },
  {
   "cell_type": "code",
   "execution_count": null,
   "metadata": {},
   "outputs": [],
   "source": []
  }
 ],
 "metadata": {
  "kernelspec": {
   "display_name": "Python 3",
   "language": "python",
   "name": "python3"
  },
  "language_info": {
   "codemirror_mode": {
    "name": "ipython",
    "version": 3
   },
   "file_extension": ".py",
   "mimetype": "text/x-python",
   "name": "python",
   "nbconvert_exporter": "python",
   "pygments_lexer": "ipython3",
   "version": "3.6.5"
  }
 },
 "nbformat": 4,
 "nbformat_minor": 2
}
